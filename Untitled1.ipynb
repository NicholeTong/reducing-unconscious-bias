{
 "cells": [
  {
   "cell_type": "code",
   "execution_count": 38,
   "metadata": {},
   "outputs": [],
   "source": [
    "import os\n",
    "import re\n",
    "import time\n",
    "import openpyxl as openpyxl\n",
    "import xlwt\n",
    "file_path = 'D:\\\\data\\\\test.xls'\n",
    "f = xlwt.Workbook(encoding='utf-8', style_compression=0)\n",
    "sheet = f.add_sheet('sheet1')\n",
    "pathDir = os.listdir(\"D:\\data\\cv\")"
   ]
  },
  {
   "cell_type": "code",
   "execution_count": 35,
   "metadata": {},
   "outputs": [],
   "source": [
    "\n",
    "returnData=[]\n",
    "for s in pathDir:\n",
    "    newDir = os.path.join(\"D:\\data\\cv\", s)\n",
    "    f1 = open(newDir, 'r',encoding='utf-8')\n",
    "    lines = f1.readlines()\n",
    "   # doc=re.compile(r\".*\")\n",
    "    name= r\"(?<=name: ).*\\s\"\n",
    "    nationality=r\"((?<=nationnality: )|(?<=citizenship: )).*\\s\"\n",
    "    gender=r'((?<=gender: )|(?<=sex: )).*\\s'\n",
    "    age=r\"((?<=date of birth: )|(?<=birth: )|(?<=age: )).*\\s\"\n",
    "    place=r\"((?<=place of birth: )|(?<=address: )).*\\s\"\n",
    "    date_and_place=r\"((?<=date and place: )|(?<=date$place of birth: )).*\\s\"\n",
    "   # dataGroup=doc.findall(str(lines))\n",
    "      \n",
    "    for  line in lines:\n",
    "            listRow=[]\n",
    "            listRow.extend(re.findall(name,str(lines),re.I))\n",
    "            listRow.extend(re.findall(nationality,str(lines),re.I))\n",
    "            listRow.extend(re.findall(gender,str(lines),re.I))\n",
    "            listRow.extend(re.findall(age, str(lines),re.I))\n",
    "            listRow.extend(re.findall(place,str(lines),re.I))\n",
    "            listRow.extend(re.findall(date_and_place,str(lines),re.I))\n",
    "    returnData.append(listRow) \n",
    "    "
   ]
  },
  {
   "cell_type": "code",
   "execution_count": 39,
   "metadata": {},
   "outputs": [],
   "source": [
    "tb_head=[u'name',u'nationality',u'gender',u'age',u'place',u'date_and_place']\n",
    "for col,title in enumerate(tb_head):\n",
    "    sheet.write(0,col,title)\n",
    "for row in range(len(returnData)):\n",
    "    for col,v in enumerate(returnData[row]):\n",
    "        sheet.write(row+1,col,v)\n",
    "f.save(file_path)\n"
   ]
  },
  {
   "cell_type": "code",
   "execution_count": null,
   "metadata": {},
   "outputs": [],
   "source": []
  }
 ],
 "metadata": {
  "kernelspec": {
   "display_name": "Python 3",
   "language": "python",
   "name": "python3"
  },
  "language_info": {
   "codemirror_mode": {
    "name": "ipython",
    "version": 3
   },
   "file_extension": ".py",
   "mimetype": "text/x-python",
   "name": "python",
   "nbconvert_exporter": "python",
   "pygments_lexer": "ipython3",
   "version": "3.7.0"
  }
 },
 "nbformat": 4,
 "nbformat_minor": 2
}
